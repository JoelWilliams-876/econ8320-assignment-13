{
  "nbformat": 4,
  "nbformat_minor": 0,
  "metadata": {
    "colab": {
      "provenance": []
    },
    "kernelspec": {
      "name": "python3",
      "display_name": "Python 3"
    },
    "language_info": {
      "name": "python"
    }
  },
  "cells": [
    {
      "cell_type": "code",
      "execution_count": 11,
      "metadata": {
        "colab": {
          "base_uri": "https://localhost:8080/"
        },
        "id": "PwGoOUBwu_-a",
        "outputId": "89f7b17b-8831-48e1-cd53-75b5201cf9b5"
      },
      "outputs": [
        {
          "output_type": "stream",
          "name": "stdout",
          "text": [
            "Test Accuracy: 0.6296\n",
            "Sample Accuracy: 0.6100\n"
          ]
        }
      ],
      "source": [
        "import pandas as pd\n",
        "import numpy as np\n",
        "import patsy as pt\n",
        "from sklearn.metrics import accuracy_score\n",
        "from sklearn.ensemble import RandomForestClassifier\n",
        "from sklearn.model_selection import train_test_split\n",
        "\n",
        "# Load data\n",
        "data = pd.read_csv(\"https://raw.githubusercontent.com/dustywhite7/Econ8320/master/AssignmentData/assignment12Data.csv\")\n",
        "\n",
        "# Create design matrices\n",
        "y, x = pt.dmatrices(\"Playoffs ~ Year\", data=data, return_type='dataframe')\n",
        "\n",
        "# Train-test split\n",
        "x1, x2, y1, y2 = train_test_split(x, y, test_size=0.2, random_state=42)\n",
        "\n",
        "# Train the Random Forest model\n",
        "playoffForest = RandomForestClassifier(n_estimators=100, random_state=42)\n",
        "playoffForest.fit(x1, y1.values.ravel())\n",
        "\n",
        "# Predict and evaluate on test data\n",
        "pred_test = playoffForest.predict(x2)\n",
        "accuracy_test = accuracy_score(y2.values.ravel(), pred_test)\n",
        "print(f\"Test Accuracy: {accuracy_test:.4f}\")\n",
        "\n",
        "# Randomly sample 100 rows from the original data\n",
        "data1 = data.sample(100, random_state=42)\n",
        "\n",
        "# Re-create design matrix for the sampled data\n",
        "x_sample = pt.dmatrix(\"Year\", data1, return_type='dataframe')  # Match the formula used for `x`\n",
        "y_sample = data1['Playoffs']\n",
        "\n",
        "# Predict and evaluate on sampled data\n",
        "pred_sample = playoffForest.predict(x_sample)\n",
        "accuracy_sample = accuracy_score(y_sample, pred_sample)\n",
        "print(f\"Sample Accuracy: {accuracy_sample:.4f}\")\n"
      ]
    }
  ]
}